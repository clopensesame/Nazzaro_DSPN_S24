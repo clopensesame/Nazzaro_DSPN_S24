{
  "cells": [
    {
      "cell_type": "markdown",
      "metadata": {
        "id": "view-in-github",
        "colab_type": "text"
      },
      "source": [
        "<a href=\"https://colab.research.google.com/github/clopensesame/Nazzaro_DSPN_S24/blob/main/Exercise_14.ipynb\" target=\"_parent\"><img src=\"https://colab.research.google.com/assets/colab-badge.svg\" alt=\"Open In Colab\"/></a>"
      ]
    },
    {
      "cell_type": "markdown",
      "metadata": {
        "id": "-2W919d2ZXp7"
      },
      "source": [
        "# Exercise 14: Mediation"
      ]
    },
    {
      "cell_type": "markdown",
      "metadata": {
        "id": "L4nOzVhyZXqK"
      },
      "source": [
        "This homework assignment is designed to give you practice with mediation. You won't need to load in any data for this homework -- we'll simulate data instead."
      ]
    },
    {
      "cell_type": "markdown",
      "metadata": {
        "id": "9DsyBTB6ZXqN"
      },
      "source": [
        "---\n",
        "## 1. Simulating data (3 points)\n"
      ]
    },
    {
      "cell_type": "markdown",
      "metadata": {
        "id": "J1f6MywYhyzN"
      },
      "source": [
        "In this homework, we're going to simulate the relationship between age, word reading experience, and reading comprehension skill. Older children tend to be better at reading comprehension tasks, but this isn't just an inherent part of getting older. It's a combination of gaining more experience with reading, oral language skills, and executive functions development. In this homework, though, we're going to simplify this relationship down to a direct effect of age on reading comprehension (since improvements in oral language skills and executive functions are more guaranteed as children age than reading practice is), and a mediation of word reading experience.\n",
        "\n",
        "In graphical form:\n",
        "![picture](https://drive.google.com/uc?id=1wdm9xuiJhBJor99-9GnicO2_rzkGWtfN)"
      ]
    },
    {
      "cell_type": "markdown",
      "metadata": {
        "id": "qMpQX_ogjkyQ"
      },
      "source": [
        "Writing the relationship out formally:\n",
        "\n",
        "$$x = \\beta_{xa} a + \\beta_{x0} + \\epsilon_{x}$$\n",
        "\n",
        "$$c = \\beta_{ca} a + \\beta_{cx} x + \\beta_{c0} + \\epsilon_c$$\n",
        "\n"
      ]
    },
    {
      "cell_type": "markdown",
      "metadata": {
        "id": "5FidlpJlmKi8"
      },
      "source": [
        "$c$ is reading comprehension, $x$ is word reading experience, and $a$ is age. $\\beta_{c0}$ and $\\beta_{x0}$ are intercept terms for their respective formulas, and $\\epsilon_{c}$ and $\\epsilon_{x}$ are gaussian noise terms. We'll start by writing a function, `simulate_data`, that can simulate this relationship. The input values are set and the function structure is provided below. Complete the function such that it takes in those input variables and generates $age$, $x$, and $c$ values. Use `runif()` to generate ages. Use `rnorm()` to generate the noise terms."
      ]
    },
    {
      "cell_type": "code",
      "execution_count": 52,
      "metadata": {
        "id": "UnBVazYfZXqP",
        "vscode": {
          "languageId": "r"
        },
        "colab": {
          "base_uri": "https://localhost:8080/",
          "height": 286
        },
        "outputId": "1b2a1143-c6c0-43d0-cf61-4bb793359932"
      },
      "outputs": [
        {
          "output_type": "display_data",
          "data": {
            "text/html": [
              "<table class=\"dataframe\">\n",
              "<caption>A data.frame: 6 × 3</caption>\n",
              "<thead>\n",
              "\t<tr><th></th><th scope=col>age</th><th scope=col>x</th><th scope=col>c</th></tr>\n",
              "\t<tr><th></th><th scope=col>&lt;dbl&gt;</th><th scope=col>&lt;dbl&gt;</th><th scope=col>&lt;dbl&gt;</th></tr>\n",
              "</thead>\n",
              "<tbody>\n",
              "\t<tr><th scope=row>1</th><td>150</td><td>119.33626</td><td>573.8858</td></tr>\n",
              "\t<tr><th scope=row>2</th><td> 81</td><td> 84.87627</td><td>413.6126</td></tr>\n",
              "\t<tr><th scope=row>3</th><td>115</td><td>102.42037</td><td>495.8004</td></tr>\n",
              "\t<tr><th scope=row>4</th><td>113</td><td>101.93562</td><td>492.5814</td></tr>\n",
              "\t<tr><th scope=row>5</th><td>178</td><td>135.97090</td><td>644.8295</td></tr>\n",
              "\t<tr><th scope=row>6</th><td>111</td><td> 99.90324</td><td>484.0601</td></tr>\n",
              "</tbody>\n",
              "</table>\n"
            ],
            "text/markdown": "\nA data.frame: 6 × 3\n\n| <!--/--> | age &lt;dbl&gt; | x &lt;dbl&gt; | c &lt;dbl&gt; |\n|---|---|---|---|\n| 1 | 150 | 119.33626 | 573.8858 |\n| 2 |  81 |  84.87627 | 413.6126 |\n| 3 | 115 | 102.42037 | 495.8004 |\n| 4 | 113 | 101.93562 | 492.5814 |\n| 5 | 178 | 135.97090 | 644.8295 |\n| 6 | 111 |  99.90324 | 484.0601 |\n\n",
            "text/latex": "A data.frame: 6 × 3\n\\begin{tabular}{r|lll}\n  & age & x & c\\\\\n  & <dbl> & <dbl> & <dbl>\\\\\n\\hline\n\t1 & 150 & 119.33626 & 573.8858\\\\\n\t2 &  81 &  84.87627 & 413.6126\\\\\n\t3 & 115 & 102.42037 & 495.8004\\\\\n\t4 & 113 & 101.93562 & 492.5814\\\\\n\t5 & 178 & 135.97090 & 644.8295\\\\\n\t6 & 111 &  99.90324 & 484.0601\\\\\n\\end{tabular}\n",
            "text/plain": [
              "  age x         c       \n",
              "1 150 119.33626 573.8858\n",
              "2  81  84.87627 413.6126\n",
              "3 115 102.42037 495.8004\n",
              "4 113 101.93562 492.5814\n",
              "5 178 135.97090 644.8295\n",
              "6 111  99.90324 484.0601"
            ]
          },
          "metadata": {}
        }
      ],
      "source": [
        "set.seed(4)\n",
        "\n",
        "sample_size = 100 # How many children in data set?\n",
        "age_lo = 80     # minimum age, in months\n",
        "age_hi = 200    # maximum age, in months\n",
        "beta_xa = 0.5   # amount by which experience changes for increase of one month in age\n",
        "beta_x0 = -5    # amount of experience when age = 0 (not interpretable, since minimum age for this data is 80 months)\n",
        "sd_x = 50       # standard dev of gaussian noise term, epsilon_x\n",
        "beta_ca = 0.8   # amount that comprehension score improves for every increase of one unit in age\n",
        "beta_cx = 3     # amount that comprehension score improves for every increase of one unit in reading experience\n",
        "beta_c0 = 10    # comprehension score when reading experience is 0.\n",
        "sd_c = 85      # standard dev of gaussian noise term, epsilon_c\n",
        "\n",
        "simulate_data <- function(sample_size, age_lo, age_hi, beta_xa,\n",
        "                          beta_x0, sd_x, beta_ca, beta_cx, beta_c0, sd_c) {\n",
        "      df <- data.frame(age =rep(NA,sample_size),x =rep(NA,sample_size),c =rep(NA,sample_size))\n",
        "      #add 1 to max bc flooring; assuming age is a whole #?\n",
        "      df$age <- c(floor(runif(sample_size, min = age_lo, max = age_hi+1)))\n",
        "      df$x <- c(beta_xa*df$age + beta_x0 + rnorm(n=sample_size,sd_x))\n",
        "      df$c <- c(beta_ca*df$age + beta_cx*df$x + beta_c0 + rnorm(n=sample_size,sd_c))\n",
        "      return(df)\n",
        "}\n",
        "\n",
        "dat <- simulate_data(sample_size, age_lo, age_hi, beta_xa, beta_x0, sd_x, beta_ca, beta_cx, beta_c0, sd_c)\n",
        "head(dat)"
      ]
    },
    {
      "cell_type": "markdown",
      "metadata": {
        "id": "I-Rt8PFe_G5O"
      },
      "source": [
        "---\n",
        "## 2. Visualizing Data (2 point)"
      ]
    },
    {
      "cell_type": "markdown",
      "metadata": {
        "id": "MQdcoYCLvuDf"
      },
      "source": [
        "Load the `tidyverse` library."
      ]
    },
    {
      "cell_type": "code",
      "execution_count": 41,
      "metadata": {
        "id": "H07EMQCwvzsL",
        "vscode": {
          "languageId": "r"
        },
        "colab": {
          "base_uri": "https://localhost:8080/"
        },
        "outputId": "9e9c95bc-8eb0-425a-9974-423f18fcd340"
      },
      "outputs": [
        {
          "output_type": "stream",
          "name": "stderr",
          "text": [
            "── \u001b[1mAttaching core tidyverse packages\u001b[22m ──────────────────────── tidyverse 2.0.0 ──\n",
            "\u001b[32m✔\u001b[39m \u001b[34mdplyr    \u001b[39m 1.1.4     \u001b[32m✔\u001b[39m \u001b[34mreadr    \u001b[39m 2.1.5\n",
            "\u001b[32m✔\u001b[39m \u001b[34mforcats  \u001b[39m 1.0.0     \u001b[32m✔\u001b[39m \u001b[34mstringr  \u001b[39m 1.5.1\n",
            "\u001b[32m✔\u001b[39m \u001b[34mggplot2  \u001b[39m 3.4.4     \u001b[32m✔\u001b[39m \u001b[34mtibble   \u001b[39m 3.2.1\n",
            "\u001b[32m✔\u001b[39m \u001b[34mlubridate\u001b[39m 1.9.3     \u001b[32m✔\u001b[39m \u001b[34mtidyr    \u001b[39m 1.3.1\n",
            "\u001b[32m✔\u001b[39m \u001b[34mpurrr    \u001b[39m 1.0.2     \n",
            "── \u001b[1mConflicts\u001b[22m ────────────────────────────────────────── tidyverse_conflicts() ──\n",
            "\u001b[31m✖\u001b[39m \u001b[34mdplyr\u001b[39m::\u001b[32mfilter()\u001b[39m masks \u001b[34mstats\u001b[39m::filter()\n",
            "\u001b[31m✖\u001b[39m \u001b[34mdplyr\u001b[39m::\u001b[32mlag()\u001b[39m    masks \u001b[34mstats\u001b[39m::lag()\n",
            "\u001b[36mℹ\u001b[39m Use the conflicted package (\u001b[3m\u001b[34m<http://conflicted.r-lib.org/>\u001b[39m\u001b[23m) to force all conflicts to become errors\n"
          ]
        }
      ],
      "source": [
        "library(tidyverse)"
      ]
    },
    {
      "cell_type": "markdown",
      "metadata": {
        "id": "Vgc2ehTKv1jt"
      },
      "source": [
        "a) Plot the relationship between age and reading comprehension."
      ]
    },
    {
      "cell_type": "code",
      "execution_count": 54,
      "metadata": {
        "id": "Pb-KYXwuwS28",
        "vscode": {
          "languageId": "r"
        },
        "colab": {
          "base_uri": "https://localhost:8080/",
          "height": 437
        },
        "outputId": "bfc15468-59f7-4b98-e0e8-e9d2abacf844"
      },
      "outputs": [
        {
          "output_type": "display_data",
          "data": {
            "text/plain": [
              "plot without title"
            ],
            "image/png": "[encoded data removed]"
          },
          "metadata": {
            "image/png": {
              "width": 420,
              "height": 420
            }
          }
        }
      ],
      "source": [
        "ggplot(dat, aes(x = age, y = c)) +\n",
        "  geom_point() +\n",
        "  labs(x = \"Age\", y = \"Reading Comprehension\") +\n",
        "  ggtitle(\"Age vs. Reading Comprehension\")"
      ]
    },
    {
      "cell_type": "markdown",
      "metadata": {
        "id": "CB_8CsBZwQqW"
      },
      "source": [
        "b) Plot the relationship between reading experience, age, and reading comprehension."
      ]
    },
    {
      "cell_type": "code",
      "execution_count": 67,
      "metadata": {
        "id": "VeSOCXlMweSz",
        "vscode": {
          "languageId": "r"
        },
        "colab": {
          "base_uri": "https://localhost:8080/",
          "height": 437
        },
        "outputId": "ca5dafb6-ecdf-4822-b3ce-a592df1d76c5"
      },
      "outputs": [
        {
          "output_type": "display_data",
          "data": {
            "text/plain": [
              "plot without title"
            ],
            "image/png": "[encoded data removed]"
          },
          "metadata": {
            "image/png": {
              "width": 420,
              "height": 420
            }
          }
        }
      ],
      "source": [
        "ggplot(dat, aes(x = age, y = c, color = x)) +\n",
        "  geom_point() +\n",
        "  scale_color_gradient(low = \"light green\", high = \"dark blue\") +\n",
        "  labs(x = \"Age\", y = \"Reading Comprehension\", color = \"Reading Experience\") +\n",
        "  ggtitle(\"Age vs. Reading Comprehension vs. Reading Experience\")"
      ]
    },
    {
      "cell_type": "markdown",
      "metadata": {
        "id": "BeK0H64WlOBM"
      },
      "source": [
        "---\n",
        "## 3. Mediation Analysis (4 points)"
      ]
    },
    {
      "cell_type": "markdown",
      "metadata": {
        "id": "dP_6o9rpmThw"
      },
      "source": [
        "Load the `mediation` library."
      ]
    },
    {
      "cell_type": "code",
      "execution_count": null,
      "metadata": {
        "id": "PIPheP5ipgKg",
        "vscode": {
          "languageId": "r"
        }
      },
      "outputs": [],
      "source": [
        "install.packages(\"mediation\")\n",
        "library(mediation)"
      ]
    },
    {
      "cell_type": "markdown",
      "metadata": {
        "id": "Q1UM2Qhx6Kk-"
      },
      "source": [
        "Use the `mediate` function to determine whether `x` mediates the relationship between `age` and `c`. Use `summary()` to print the model results. *Hint: see the mediation and moderation tutorial.*"
      ]
    },
    {
      "cell_type": "code",
      "execution_count": 79,
      "metadata": {
        "id": "9h1ySgXm4HWm",
        "vscode": {
          "languageId": "r"
        },
        "colab": {
          "base_uri": "https://localhost:8080/",
          "height": 981
        },
        "outputId": "a2aa10f1-c6dd-474a-dea9-a481d2ba58dc"
      },
      "outputs": [
        {
          "output_type": "display_data",
          "data": {
            "text/plain": [
              "\n",
              "Call:\n",
              "lm(formula = x ~ age, data = dat)\n",
              "\n",
              "Residuals:\n",
              "     Min       1Q   Median       3Q      Max \n",
              "-2.30662 -0.65471 -0.08413  0.69907  2.33944 \n",
              "\n",
              "Coefficients:\n",
              "             Estimate Std. Error t value Pr(>|t|)    \n",
              "(Intercept) 44.855718   0.396082   113.2   <2e-16 ***\n",
              "age          0.500715   0.002637   189.9   <2e-16 ***\n",
              "---\n",
              "Signif. codes:  0 ‘***’ 0.001 ‘**’ 0.01 ‘*’ 0.05 ‘.’ 0.1 ‘ ’ 1\n",
              "\n",
              "Residual standard error: 0.9492 on 98 degrees of freedom\n",
              "Multiple R-squared:  0.9973,\tAdjusted R-squared:  0.9973 \n",
              "F-statistic: 3.605e+04 on 1 and 98 DF,  p-value: < 2.2e-16\n"
            ]
          },
          "metadata": {}
        },
        {
          "output_type": "display_data",
          "data": {
            "text/plain": [
              "\n",
              "Call:\n",
              "lm(formula = c ~ age + x, data = dat)\n",
              "\n",
              "Residuals:\n",
              "     Min       1Q   Median       3Q      Max \n",
              "-2.24153 -0.71955 -0.05886  0.62767  2.26568 \n",
              "\n",
              "Coefficients:\n",
              "            Estimate Std. Error t value Pr(>|t|)    \n",
              "(Intercept) 101.6138     4.6250   21.97   <2e-16 ***\n",
              "age           0.8684     0.0515   16.86   <2e-16 ***\n",
              "x             2.8588     0.1027   27.83   <2e-16 ***\n",
              "---\n",
              "Signif. codes:  0 ‘***’ 0.001 ‘**’ 0.01 ‘*’ 0.05 ‘.’ 0.1 ‘ ’ 1\n",
              "\n",
              "Residual standard error: 0.9652 on 97 degrees of freedom\n",
              "Multiple R-squared:  0.9999,\tAdjusted R-squared:  0.9999 \n",
              "F-statistic: 3.681e+05 on 2 and 97 DF,  p-value: < 2.2e-16\n"
            ]
          },
          "metadata": {}
        },
        {
          "output_type": "display_data",
          "data": {
            "text/plain": [
              "\n",
              "Causal Mediation Analysis \n",
              "\n",
              "Quasi-Bayesian Confidence Intervals\n",
              "\n",
              "               Estimate 95% CI Lower 95% CI Upper p-value    \n",
              "ACME              1.431        1.324         1.54  <2e-16 ***\n",
              "ADE               0.869        0.762         0.98  <2e-16 ***\n",
              "Total Effect      2.300        2.284         2.32  <2e-16 ***\n",
              "Prop. Mediated    0.622        0.575         0.67  <2e-16 ***\n",
              "---\n",
              "Signif. codes:  0 ‘***’ 0.001 ‘**’ 0.01 ‘*’ 0.05 ‘.’ 0.1 ‘ ’ 1\n",
              "\n",
              "Sample Size Used: 100 \n",
              "\n",
              "\n",
              "Simulations: 1000 \n"
            ]
          },
          "metadata": {}
        }
      ],
      "source": [
        "set.seed(1)\n",
        "fitM <- lm(x ~ age, dat) #Step 1: IV on M\n",
        "fitY <- lm(c ~ age + x, dat) #Step 2: IV and M on DV\n",
        "summary(fitM)\n",
        "summary(fitY)\n",
        "fitMed <- mediate(fitM, fitY, treat=\"age\", mediator=\"x\")\n",
        "summary(fitMed)"
      ]
    },
    {
      "cell_type": "markdown",
      "metadata": {
        "id": "sYL6Pm0FOUbq"
      },
      "source": [
        "---\n",
        "## 5. Reflection (1 point)\n",
        "How do you interpret these results? Why do you think the analysis yielded this result?"
      ]
    },
    {
      "cell_type": "markdown",
      "metadata": {
        "id": "ZGVjm8AJOUbq",
        "outputId": "ccd7b03c-8619-4eb3-9752-06929c1e8ed0",
        "vscode": {
          "languageId": "r"
        }
      },
      "source": [
        "> * fitM: age is a significant predictor of x.\n",
        "> * fitY: age and x are significant predictors of c.\n",
        "> * fitMed:\n",
        "> ** ACME is significant, showing that varying our mediator x and holding age constant, our c will change significantly.\n",
        "> ** ADE is significant, showing that varying age and holding our mediator x constant, our c will change significantly.\n",
        "> ** Total Effect is significant, showing that the total impact of age on c is significant.\n",
        "> ** Prop. Mediated is significant, and our proportion of indirect effects relative to direct effects is 0.62.\n",
        "> * Since there is a significant direct effect of age on c and a significant ACME, we likely have a partial mediation with mediation accounting for ~62% of indirect effects of age on c via x relative to direct effects of c on age. This makes sense, since in our original model from question 1, we have age having both a direct effect on c and an indirect on c through x.\n"
      ]
    },
    {
      "cell_type": "markdown",
      "metadata": {
        "id": "C4MPECMmZXqe"
      },
      "source": [
        "**DUE:** 5pm EST, April 1, 2024"
      ]
    },
    {
      "cell_type": "markdown",
      "metadata": {
        "id": "r9GUofXN4BVy"
      },
      "source": [
        "**IMPORTANT** Did you collaborate with anyone on this assignment? If so, list their names here.\n",
        "> *Someone's Name*"
      ]
    }
  ],
  "metadata": {
    "colab": {
      "provenance": [],
      "include_colab_link": true
    },
    "kernelspec": {
      "display_name": "R",
      "language": "R",
      "name": "ir"
    },
    "language_info": {
      "codemirror_mode": "r",
      "file_extension": ".r",
      "mimetype": "text/x-r-source",
      "name": "R",
      "pygments_lexer": "r",
      "version": "4.2.0"
    }
  },
  "nbformat": 4,
  "nbformat_minor": 0
}