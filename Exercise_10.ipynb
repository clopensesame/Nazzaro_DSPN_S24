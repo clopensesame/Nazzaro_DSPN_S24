{
  "cells": [
    {
      "cell_type": "markdown",
      "metadata": {
        "id": "view-in-github",
        "colab_type": "text"
      },
      "source": [
        "<a href=\"https://colab.research.google.com/github/clopensesame/Nazzaro_DSPN_S24/blob/main/Exercise_10.ipynb\" target=\"_parent\"><img src=\"https://colab.research.google.com/assets/colab-badge.svg\" alt=\"Open In Colab\"/></a>"
      ]
    },
    {
      "cell_type": "markdown",
      "metadata": {
        "id": "-2W919d2ZXp7"
      },
      "source": [
        "# Exercise 10: Mixed effects"
      ]
    },
    {
      "cell_type": "markdown",
      "metadata": {
        "id": "L4nOzVhyZXqK"
      },
      "source": [
        "This homework assignment is designed to give you practice fitting and interpreting mixed effects models.\n",
        "\n",
        "We will be using the **LexicalData.csv** and **Items.csv** files from the *Homework/lexDat* folder in the class GitHub repository again.\n",
        "\n",
        "This data is a subset of the [English Lexicon Project database](https://elexicon.wustl.edu/). It provides the reaction times (in milliseconds) of many subjects as they are presented with letter strings and asked to decide, as quickly and as accurately as possible, whether the letter string is a word or not. The **Items.csv** provides characteristics of the words used, namely frequency (how common is this word?) and length (how many letters?). Unlike in the previous homework, there isn't any missing data in the **LexicalData.csv** file.\n",
        "\n",
        "*Data courtesy of Balota, D.A., Yap, M.J., Cortese, M.J., Hutchison, K.A., Kessler, B., Loftis, B., Neely, J.H., Nelson, D.L., Simpson, G.B., & Treiman, R. (2007). The English Lexicon Project. Behavior Research Methods, 39, 445-459.*"
      ]
    },
    {
      "cell_type": "markdown",
      "metadata": {
        "id": "9DsyBTB6ZXqN"
      },
      "source": [
        "---\n",
        "## 1. Loading and formatting the data (1 point)\n",
        "\n",
        "Load in data from the **LexicalData.csv** and **Items.csv** files. As in the previous homeworks, remove the commas from the reaction times and convert them from strings to numbers. Use `left_join` to add word characteristics `Length` and `Log_Freq_Hal` from **Items** to **LexicalData**.\n",
        "\n",
        "*Note: the `Freq_HAL` variable in **Items.csv** has a similar formatting issue, using string values with commas. We're not going to worry about fixing this since we're only using `Log_Freq_HAL`, which is the natural log transformation of `Freq_HAL`, in this homework.*"
      ]
    },
    {
      "cell_type": "code",
      "execution_count": 8,
      "metadata": {
        "id": "UnBVazYfZXqP",
        "vscode": {
          "languageId": "r"
        },
        "colab": {
          "base_uri": "https://localhost:8080/",
          "height": 340
        },
        "outputId": "ab908775-a2a7-4abb-b3b7-c4527d45307c"
      },
      "outputs": [
        {
          "output_type": "stream",
          "name": "stderr",
          "text": [
            "Installing packages into ‘/usr/local/lib/R/site-library’\n",
            "(as ‘lib’ is unspecified)\n",
            "\n"
          ]
        },
        {
          "output_type": "display_data",
          "data": {
            "text/html": [
              "<table class=\"dataframe\">\n",
              "<caption>A data.frame: 6 × 10</caption>\n",
              "<thead>\n",
              "\t<tr><th></th><th scope=col>Sub_ID</th><th scope=col>Trial</th><th scope=col>Type</th><th scope=col>D_RT</th><th scope=col>D_Word</th><th scope=col>Outlier</th><th scope=col>D_Zscore</th><th scope=col>Length</th><th scope=col>Log_Freq_HAL</th><th scope=col>D_RT_clean</th></tr>\n",
              "\t<tr><th></th><th scope=col>&lt;int&gt;</th><th scope=col>&lt;int&gt;</th><th scope=col>&lt;int&gt;</th><th scope=col>&lt;chr&gt;</th><th scope=col>&lt;chr&gt;</th><th scope=col>&lt;chr&gt;</th><th scope=col>&lt;dbl&gt;</th><th scope=col>&lt;int&gt;</th><th scope=col>&lt;dbl&gt;</th><th scope=col>&lt;dbl&gt;</th></tr>\n",
              "</thead>\n",
              "<tbody>\n",
              "\t<tr><th scope=row>1</th><td>157</td><td>1</td><td>1</td><td>710  </td><td>browse     </td><td>false</td><td>-0.437</td><td> 6</td><td>8.856</td><td> 710</td></tr>\n",
              "\t<tr><th scope=row>2</th><td> 67</td><td>1</td><td>1</td><td>1,094</td><td>refrigerant</td><td>false</td><td> 0.825</td><td>11</td><td>4.644</td><td>1094</td></tr>\n",
              "\t<tr><th scope=row>3</th><td>120</td><td>1</td><td>1</td><td>587  </td><td>gaining    </td><td>false</td><td>-0.645</td><td> 7</td><td>8.304</td><td> 587</td></tr>\n",
              "\t<tr><th scope=row>4</th><td> 21</td><td>1</td><td>1</td><td>984  </td><td>cheerless  </td><td>false</td><td> 0.025</td><td> 9</td><td>2.639</td><td> 984</td></tr>\n",
              "\t<tr><th scope=row>5</th><td>236</td><td>1</td><td>1</td><td>577  </td><td>pattered   </td><td>false</td><td>-0.763</td><td> 8</td><td>1.386</td><td> 577</td></tr>\n",
              "\t<tr><th scope=row>6</th><td>236</td><td>2</td><td>1</td><td>715  </td><td>conjures   </td><td>false</td><td>-0.364</td><td> 8</td><td>5.268</td><td> 715</td></tr>\n",
              "</tbody>\n",
              "</table>\n"
            ],
            "text/markdown": "\nA data.frame: 6 × 10\n\n| <!--/--> | Sub_ID &lt;int&gt; | Trial &lt;int&gt; | Type &lt;int&gt; | D_RT &lt;chr&gt; | D_Word &lt;chr&gt; | Outlier &lt;chr&gt; | D_Zscore &lt;dbl&gt; | Length &lt;int&gt; | Log_Freq_HAL &lt;dbl&gt; | D_RT_clean &lt;dbl&gt; |\n|---|---|---|---|---|---|---|---|---|---|---|\n| 1 | 157 | 1 | 1 | 710   | browse      | false | -0.437 |  6 | 8.856 |  710 |\n| 2 |  67 | 1 | 1 | 1,094 | refrigerant | false |  0.825 | 11 | 4.644 | 1094 |\n| 3 | 120 | 1 | 1 | 587   | gaining     | false | -0.645 |  7 | 8.304 |  587 |\n| 4 |  21 | 1 | 1 | 984   | cheerless   | false |  0.025 |  9 | 2.639 |  984 |\n| 5 | 236 | 1 | 1 | 577   | pattered    | false | -0.763 |  8 | 1.386 |  577 |\n| 6 | 236 | 2 | 1 | 715   | conjures    | false | -0.364 |  8 | 5.268 |  715 |\n\n",
            "text/latex": "A data.frame: 6 × 10\n\\begin{tabular}{r|llllllllll}\n  & Sub\\_ID & Trial & Type & D\\_RT & D\\_Word & Outlier & D\\_Zscore & Length & Log\\_Freq\\_HAL & D\\_RT\\_clean\\\\\n  & <int> & <int> & <int> & <chr> & <chr> & <chr> & <dbl> & <int> & <dbl> & <dbl>\\\\\n\\hline\n\t1 & 157 & 1 & 1 & 710   & browse      & false & -0.437 &  6 & 8.856 &  710\\\\\n\t2 &  67 & 1 & 1 & 1,094 & refrigerant & false &  0.825 & 11 & 4.644 & 1094\\\\\n\t3 & 120 & 1 & 1 & 587   & gaining     & false & -0.645 &  7 & 8.304 &  587\\\\\n\t4 &  21 & 1 & 1 & 984   & cheerless   & false &  0.025 &  9 & 2.639 &  984\\\\\n\t5 & 236 & 1 & 1 & 577   & pattered    & false & -0.763 &  8 & 1.386 &  577\\\\\n\t6 & 236 & 2 & 1 & 715   & conjures    & false & -0.364 &  8 & 5.268 &  715\\\\\n\\end{tabular}\n",
            "text/plain": [
              "  Sub_ID Trial Type D_RT  D_Word      Outlier D_Zscore Length Log_Freq_HAL\n",
              "1 157    1     1    710   browse      false   -0.437    6     8.856       \n",
              "2  67    1     1    1,094 refrigerant false    0.825   11     4.644       \n",
              "3 120    1     1    587   gaining     false   -0.645    7     8.304       \n",
              "4  21    1     1    984   cheerless   false    0.025    9     2.639       \n",
              "5 236    1     1    577   pattered    false   -0.763    8     1.386       \n",
              "6 236    2     1    715   conjures    false   -0.364    8     5.268       \n",
              "  D_RT_clean\n",
              "1  710      \n",
              "2 1094      \n",
              "3  587      \n",
              "4  984      \n",
              "5  577      \n",
              "6  715      "
            ]
          },
          "metadata": {}
        }
      ],
      "source": [
        "install.packages(c(\"class\",\"tidyverse\"))\n",
        "library(class)\n",
        "library(tidyverse)\n",
        "\n",
        "dat <- read.csv(\"/content/LexicalData.csv\")\n",
        "d1 <- read.csv(\"/content/Items.csv\")\n",
        "\n",
        "df <- data.frame(Length = d1$Length, Log_Freq_HAL = d1$Log_Freq_HAL, Word = d1$Word)\n",
        "\n",
        "dat <- dat %>%\n",
        "  left_join(df, by = c(\"D_Word\" = \"Word\")) %>%\n",
        "  drop_na()\n",
        "\n",
        "dat <- dat %>%\n",
        "  mutate(D_RT_clean = gsub(\",\", \"\", D_RT)) %>%\n",
        "  mutate(D_RT_clean = as.numeric(D_RT_clean)) %>%\n",
        "  filter(!is.na(D_RT_clean) & D_RT_clean > 0)\n",
        "\n",
        "head(dat)"
      ]
    },
    {
      "cell_type": "markdown",
      "metadata": {
        "id": "bXy81Viishk1"
      },
      "source": [
        "---\n",
        "## 2. Model fitting (4 points)"
      ]
    },
    {
      "cell_type": "markdown",
      "metadata": {
        "id": "H7_gEgkbzFtU"
      },
      "source": [
        "First, fit a linear model with `Log_Freq_HAL` and `Length` as predictors, and `D_RT` as the output. Include an interaction term. Use `summary()` to look at the model output."
      ]
    },
    {
      "cell_type": "code",
      "execution_count": 9,
      "metadata": {
        "id": "OIOIg-GRz4rN",
        "vscode": {
          "languageId": "r"
        },
        "colab": {
          "base_uri": "https://localhost:8080/",
          "height": 374
        },
        "outputId": "6b200258-e497-4671-90b3-f9f63d588ffa"
      },
      "outputs": [
        {
          "output_type": "display_data",
          "data": {
            "text/plain": [
              "\n",
              "Call:\n",
              "lm(formula = D_RT_clean ~ Log_Freq_HAL * Length, data = dat)\n",
              "\n",
              "Residuals:\n",
              "     Min       1Q   Median       3Q      Max \n",
              "-1118.01  -205.23   -86.95    90.77  3147.07 \n",
              "\n",
              "Coefficients:\n",
              "                    Estimate Std. Error t value Pr(>|t|)    \n",
              "(Intercept)         610.1903    14.6678  41.601  < 2e-16 ***\n",
              "Log_Freq_HAL         -6.0239     1.9678  -3.061  0.00221 ** \n",
              "Length               47.7531     1.6368  29.175  < 2e-16 ***\n",
              "Log_Freq_HAL:Length  -2.9421     0.2348 -12.528  < 2e-16 ***\n",
              "---\n",
              "Signif. codes:  0 ‘***’ 0.001 ‘**’ 0.01 ‘*’ 0.05 ‘.’ 0.1 ‘ ’ 1\n",
              "\n",
              "Residual standard error: 359.1 on 62606 degrees of freedom\n",
              "Multiple R-squared:  0.09473,\tAdjusted R-squared:  0.09469 \n",
              "F-statistic:  2184 on 3 and 62606 DF,  p-value: < 2.2e-16\n"
            ]
          },
          "metadata": {}
        }
      ],
      "source": [
        "fe.fit <- lm(D_RT_clean ~ Log_Freq_HAL*Length, data=dat)\n",
        "summary(fe.fit)"
      ]
    },
    {
      "cell_type": "markdown",
      "metadata": {
        "id": "Pbeg_JrS3mwU"
      },
      "source": [
        "Now, install `lme4` using `install.packages()` and then load the library."
      ]
    },
    {
      "cell_type": "code",
      "execution_count": 10,
      "metadata": {
        "id": "hFSnvvb_re2O",
        "vscode": {
          "languageId": "r"
        },
        "colab": {
          "base_uri": "https://localhost:8080/"
        },
        "outputId": "2a447187-c8e5-4618-d32e-b4786a953cbd"
      },
      "outputs": [
        {
          "output_type": "stream",
          "name": "stderr",
          "text": [
            "Installing package into ‘/usr/local/lib/R/site-library’\n",
            "(as ‘lib’ is unspecified)\n",
            "\n"
          ]
        }
      ],
      "source": [
        "install.packages(\"lme4\")\n",
        "library(lme4)"
      ]
    },
    {
      "cell_type": "markdown",
      "metadata": {
        "id": "xZJns7xr41nW"
      },
      "source": [
        "Now fit a mixed effects model that includes the same predictors as the linear model above, as well as random intercepts for `Sub_ID` (i.e., cases where subject ID shifts the RT mean). Use `summary()` to look at the model output."
      ]
    },
    {
      "cell_type": "code",
      "execution_count": 11,
      "metadata": {
        "id": "8kjwT0je57N7",
        "vscode": {
          "languageId": "r"
        },
        "colab": {
          "base_uri": "https://localhost:8080/",
          "height": 517
        },
        "outputId": "0a0398cd-b72f-480d-e952-52d8773f13b4"
      },
      "outputs": [
        {
          "output_type": "display_data",
          "data": {
            "text/plain": [
              "Linear mixed model fit by REML ['lmerMod']\n",
              "Formula: D_RT_clean ~ Log_Freq_HAL * Length + (1 | Sub_ID)\n",
              "   Data: dat\n",
              "\n",
              "REML criterion at convergence: 888235.6\n",
              "\n",
              "Scaled residuals: \n",
              "    Min      1Q  Median      3Q     Max \n",
              "-4.5058 -0.5472 -0.1568  0.3103 10.7381 \n",
              "\n",
              "Random effects:\n",
              " Groups   Name        Variance Std.Dev.\n",
              " Sub_ID   (Intercept) 46333    215.3   \n",
              " Residual             82978    288.1   \n",
              "Number of obs: 62610, groups:  Sub_ID, 299\n",
              "\n",
              "Fixed effects:\n",
              "                    Estimate Std. Error t value\n",
              "(Intercept)         616.8445    17.1522  35.963\n",
              "Log_Freq_HAL         -7.4374     1.5830  -4.698\n",
              "Length               47.7477     1.3162  36.277\n",
              "Log_Freq_HAL:Length  -2.8778     0.1888 -15.239\n",
              "\n",
              "Correlation of Fixed Effects:\n",
              "            (Intr) Lg_F_HAL Length\n",
              "Log_Frq_HAL -0.645                \n",
              "Length      -0.656  0.917         \n",
              "Lg_Fr_HAL:L  0.582 -0.942   -0.923"
            ]
          },
          "metadata": {}
        }
      ],
      "source": [
        "me.fit = lmer(D_RT_clean ~ Log_Freq_HAL*Length + (1 | Sub_ID), data=dat)\n",
        "summary(me.fit)"
      ]
    },
    {
      "cell_type": "markdown",
      "metadata": {
        "id": "Vfb_ovk7JFGt"
      },
      "source": [
        "---\n",
        "## 3. Model assessment (4 points)"
      ]
    },
    {
      "cell_type": "markdown",
      "metadata": {
        "id": "r7B1Ux6RHGjy"
      },
      "source": [
        "Compare the three t-values for the fixed effects and the mixed effects models. How do they differ, and why?"
      ]
    },
    {
      "cell_type": "markdown",
      "metadata": {
        "id": "kCi5gYOeHo6m"
      },
      "source": [
        "> *fixed effects*\n",
        "\n",
        "> Log_Freq_HAL = -3.061\n",
        "\n",
        "> Length = 29.175\n",
        "\n",
        "> Log_Freq_HAL:Length = -12.528\n",
        "\n",
        "> *mixed effects*\n",
        "\n",
        "> Log_Freq_HAL = -4.698\n",
        "\n",
        "> Length = 36.277\n",
        "\n",
        "> Log_Freq_HAL:Length = -15.239\n",
        "\n",
        "> Fixed effects t-values are more conservative (have a smaller magnitude than corresponding mixed effects t-values). Fixed effects is more conservative since it is not accounting for subject effects. Mixed effects does account for subject effects, therefore introducing more variability."
      ]
    },
    {
      "cell_type": "markdown",
      "metadata": {
        "id": "hukKG1AbGqXM"
      },
      "source": [
        "Use the Aikeke Information Criterion (AIC) to compare these two models. Which one is better?"
      ]
    },
    {
      "cell_type": "code",
      "execution_count": 13,
      "metadata": {
        "id": "KMDg8qb5FhJz",
        "vscode": {
          "languageId": "r"
        },
        "colab": {
          "base_uri": "https://localhost:8080/",
          "height": 178
        },
        "outputId": "46ef0dd0-b64c-4676-9c48-da33c001b005"
      },
      "outputs": [
        {
          "output_type": "display_data",
          "data": {
            "text/html": [
              "<table class=\"dataframe\">\n",
              "<caption>A data.frame: 2 × 2</caption>\n",
              "<thead>\n",
              "\t<tr><th></th><th scope=col>df</th><th scope=col>AIC</th></tr>\n",
              "\t<tr><th></th><th scope=col>&lt;dbl&gt;</th><th scope=col>&lt;dbl&gt;</th></tr>\n",
              "</thead>\n",
              "<tbody>\n",
              "\t<tr><th scope=row>fe.fit</th><td>5</td><td>914436.4</td></tr>\n",
              "\t<tr><th scope=row>me.fit</th><td>6</td><td>888247.6</td></tr>\n",
              "</tbody>\n",
              "</table>\n"
            ],
            "text/markdown": "\nA data.frame: 2 × 2\n\n| <!--/--> | df &lt;dbl&gt; | AIC &lt;dbl&gt; |\n|---|---|---|\n| fe.fit | 5 | 914436.4 |\n| me.fit | 6 | 888247.6 |\n\n",
            "text/latex": "A data.frame: 2 × 2\n\\begin{tabular}{r|ll}\n  & df & AIC\\\\\n  & <dbl> & <dbl>\\\\\n\\hline\n\tfe.fit & 5 & 914436.4\\\\\n\tme.fit & 6 & 888247.6\\\\\n\\end{tabular}\n",
            "text/plain": [
              "       df AIC     \n",
              "fe.fit 5  914436.4\n",
              "me.fit 6  888247.6"
            ]
          },
          "metadata": {}
        },
        {
          "output_type": "display_data",
          "data": {
            "text/html": [
              "-26188.8233715772"
            ],
            "text/markdown": "-26188.8233715772",
            "text/latex": "-26188.8233715772",
            "text/plain": [
              "[1] -26188.82"
            ]
          },
          "metadata": {}
        }
      ],
      "source": [
        "ic = AIC(fe.fit, me.fit)\n",
        "ic\n",
        "diff(ic$AIC)"
      ]
    },
    {
      "cell_type": "markdown",
      "metadata": {
        "id": "T4oTfsYmIvYt"
      },
      "source": [
        "> me.fit has a lower AIC, so the mixed effects model is better."
      ]
    },
    {
      "cell_type": "markdown",
      "metadata": {
        "id": "ARF2PF2yLXkZ"
      },
      "source": [
        "---\n",
        "##  4. Reflection (1 point)\n",
        "\n",
        "What other random effects could be controlled for in this data set?\n",
        "\n",
        "> Random effects include incidental factors, and statistical limitations. Therefore, Trial, Type, and D_Zscore could be controlled for.\n",
        ">"
      ]
    },
    {
      "cell_type": "markdown",
      "metadata": {
        "id": "C4MPECMmZXqe"
      },
      "source": [
        "**DUE:** 5pm EST, March 18, 2024"
      ]
    },
    {
      "cell_type": "markdown",
      "metadata": {
        "id": "r9GUofXN4BVy"
      },
      "source": [
        "**IMPORTANT** Did you collaborate with anyone on this assignment? If so, list their names here.\n",
        "> *Someone's Name*"
      ]
    }
  ],
  "metadata": {
    "colab": {
      "provenance": [],
      "include_colab_link": true
    },
    "kernelspec": {
      "display_name": "R",
      "language": "R",
      "name": "ir"
    },
    "language_info": {
      "codemirror_mode": "r",
      "file_extension": ".r",
      "mimetype": "text/x-r-source",
      "name": "R",
      "pygments_lexer": "r",
      "version": "4.2.0"
    }
  },
  "nbformat": 4,
  "nbformat_minor": 0
}