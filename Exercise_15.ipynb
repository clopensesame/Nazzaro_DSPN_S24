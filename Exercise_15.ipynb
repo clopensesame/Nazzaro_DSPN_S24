{
  "cells": [
    {
      "cell_type": "markdown",
      "metadata": {
        "id": "view-in-github",
        "colab_type": "text"
      },
      "source": [
        "<a href=\"https://colab.research.google.com/github/clopensesame/Nazzaro_DSPN_S24/blob/main/Exercise_15.ipynb\" target=\"_parent\"><img src=\"https://colab.research.google.com/assets/colab-badge.svg\" alt=\"Open In Colab\"/></a>"
      ]
    },
    {
      "cell_type": "markdown",
      "metadata": {
        "id": "-2W919d2ZXp7"
      },
      "source": [
        "# Exercise 15: Power analyses"
      ]
    },
    {
      "cell_type": "markdown",
      "metadata": {
        "id": "L4nOzVhyZXqK"
      },
      "source": [
        "This  assignment is designed to give you practice with Monte Carlo methods to conduct power analyses via simulation. You won't need to load in any data for this homework. We will, however, be using parts of the homework from last week."
      ]
    },
    {
      "cell_type": "markdown",
      "metadata": {
        "id": "9DsyBTB6ZXqN"
      },
      "source": [
        "---\n",
        "## 1. Simulating data (1 points)\n"
      ]
    },
    {
      "cell_type": "markdown",
      "metadata": {
        "id": "J1f6MywYhyzN"
      },
      "source": [
        "Pull your `simulate_data()` function from your last homework and add it below.\n",
        "\n",
        "As a reminder, this function simulates the relationship between age, word reading experience, and reading comprehension skill.\n",
        "\n",
        "`c` is reading comprehension, and `x` is word reading experience."
      ]
    },
    {
      "cell_type": "code",
      "execution_count": 3,
      "metadata": {
        "id": "UnBVazYfZXqP",
        "vscode": {
          "languageId": "r"
        },
        "colab": {
          "base_uri": "https://localhost:8080/",
          "height": 286
        },
        "outputId": "027f9304-5dec-4730-c6f2-e7c1c3a5c2c2"
      },
      "outputs": [
        {
          "output_type": "display_data",
          "data": {
            "text/html": [
              "<table class=\"dataframe\">\n",
              "<caption>A data.frame: 6 × 3</caption>\n",
              "<thead>\n",
              "\t<tr><th></th><th scope=col>age</th><th scope=col>x</th><th scope=col>c</th></tr>\n",
              "\t<tr><th></th><th scope=col>&lt;dbl&gt;</th><th scope=col>&lt;dbl&gt;</th><th scope=col>&lt;dbl&gt;</th></tr>\n",
              "</thead>\n",
              "<tbody>\n",
              "\t<tr><th scope=row>1</th><td>112</td><td>101.39811</td><td>489.2445</td></tr>\n",
              "\t<tr><th scope=row>2</th><td>125</td><td>106.88797</td><td>515.6454</td></tr>\n",
              "\t<tr><th scope=row>3</th><td>149</td><td>119.84112</td><td>573.4053</td></tr>\n",
              "\t<tr><th scope=row>4</th><td>189</td><td>138.37064</td><td>660.3825</td></tr>\n",
              "\t<tr><th scope=row>5</th><td>104</td><td> 98.43302</td><td>472.0116</td></tr>\n",
              "\t<tr><th scope=row>6</th><td>188</td><td>140.98040</td><td>667.2660</td></tr>\n",
              "</tbody>\n",
              "</table>\n"
            ],
            "text/markdown": "\nA data.frame: 6 × 3\n\n| <!--/--> | age &lt;dbl&gt; | x &lt;dbl&gt; | c &lt;dbl&gt; |\n|---|---|---|---|\n| 1 | 112 | 101.39811 | 489.2445 |\n| 2 | 125 | 106.88797 | 515.6454 |\n| 3 | 149 | 119.84112 | 573.4053 |\n| 4 | 189 | 138.37064 | 660.3825 |\n| 5 | 104 |  98.43302 | 472.0116 |\n| 6 | 188 | 140.98040 | 667.2660 |\n\n",
            "text/latex": "A data.frame: 6 × 3\n\\begin{tabular}{r|lll}\n  & age & x & c\\\\\n  & <dbl> & <dbl> & <dbl>\\\\\n\\hline\n\t1 & 112 & 101.39811 & 489.2445\\\\\n\t2 & 125 & 106.88797 & 515.6454\\\\\n\t3 & 149 & 119.84112 & 573.4053\\\\\n\t4 & 189 & 138.37064 & 660.3825\\\\\n\t5 & 104 &  98.43302 & 472.0116\\\\\n\t6 & 188 & 140.98040 & 667.2660\\\\\n\\end{tabular}\n",
            "text/plain": [
              "  age x         c       \n",
              "1 112 101.39811 489.2445\n",
              "2 125 106.88797 515.6454\n",
              "3 149 119.84112 573.4053\n",
              "4 189 138.37064 660.3825\n",
              "5 104  98.43302 472.0116\n",
              "6 188 140.98040 667.2660"
            ]
          },
          "metadata": {}
        }
      ],
      "source": [
        "set.seed(1)\n",
        "sample_size = 100 # How many children in data set?\n",
        "age_lo = 80     # minimum age, in months\n",
        "age_hi = 200    # maximum age, in months\n",
        "beta_xa = 0.5   # amount by which experience changes for increase of one month in age\n",
        "beta_x0 = -5    # amount of experience when age = 0 (not interpretable, since minimum age for this data is 80 months)\n",
        "sd_x = 50       # standard dev of gaussian noise term, epsilon_x\n",
        "beta_ca = 0.8   # amount that comprehension score improves for every increase of one unit in age\n",
        "beta_cx = 3     # amount that comprehension score improves for every increase of one unit in reading experience\n",
        "beta_c0 = 10    # comprehension score when reading experience is 0.\n",
        "sd_c = 85      # standard dev of gaussian noise term, epsilon_c\n",
        "\n",
        "simulate_data <- function(sample_size, age_lo, age_hi, beta_xa, beta_x0, sd_x, beta_ca, beta_cx, beta_c0, sd_c) {\n",
        "      df <- data.frame(age =rep(NA,sample_size),x =rep(NA,sample_size),c =rep(NA,sample_size))\n",
        "      #add 1 to max bc flooring; assuming age is a whole #?\n",
        "      df$age <- c(floor(runif(sample_size, min = age_lo, max = age_hi+1)))\n",
        "      df$x <- c(beta_xa*df$age + beta_x0 + rnorm(n=sample_size,sd_x))\n",
        "      df$c <- c(beta_ca*df$age + beta_cx*df$x + beta_c0 + rnorm(n=sample_size,sd_c))\n",
        "      return(df)\n",
        "      #i didn't do it like this i am sorry\n",
        "      #return(data.frame(age=age,x=x,c=c)) # it's actually bad form to have a variable named \"c\" in R, my bad...\n",
        "}\n",
        "\n",
        "dat <- simulate_data(sample_size, age_lo, age_hi, beta_xa, beta_x0, sd_x, beta_ca, beta_cx, beta_c0, sd_c)\n",
        "head(dat)"
      ]
    },
    {
      "cell_type": "markdown",
      "metadata": {
        "id": "T3b3_KsHk-xD"
      },
      "source": [
        "---\n",
        "## 2. `run_analysis()` function (2 pts)"
      ]
    },
    {
      "cell_type": "markdown",
      "metadata": {
        "id": "TJyPIaTO8zCS"
      },
      "source": [
        "Last week, we looked at whether word reading experience(`x`) mediated the relation between `age` and reading comprehension (`c`).\n",
        "\n",
        "Now we're going to use our `simulate_data()` function to conduct a power analysis. The goal is to determine how many participants we would need in order to detect both the mediated and the direct effects in this data.\n",
        "\n",
        "*Note: We're going to pretend for the sake of simplicity that we don't have any control over the ages of the children we get (so ages are generated using `runif(sample_size, age_lo, age_hi)`, although of course this would be an unusual situation in reality.*\n",
        "\n",
        "First, write a function, `run_analysis()`, that takes in simulated data, runs **your mediation from last week**, and returns a vector containing the ACME and ADE estimates and p-values (these are the `d0`, `d0.p`, `z0`, and `z0.p` features of the mediated model object, e.g., `fitMed$d0.p`). Print this function's output for the data we simulated previously."
      ]
    },
    {
      "cell_type": "code",
      "execution_count": null,
      "metadata": {
        "id": "AidH_KidrX9L",
        "scrolled": true,
        "vscode": {
          "languageId": "r"
        }
      },
      "outputs": [],
      "source": [
        "install.packages(\"mediation\")\n",
        "library(mediation)"
      ]
    },
    {
      "cell_type": "code",
      "source": [
        "run_analysis <- function(df) {\n",
        "  fitM <- lm(x ~ age, dat) #Step 1: IV on M\n",
        "  fitY <- lm(c ~ age + x, dat) #Step 2: IV and M on DV\n",
        "  fitMed <- mediate(fitM, fitY, treat=\"age\", mediator=\"x\")\n",
        "  summary(fitMed)\n",
        "  vec <- c(fitMed$d0, fitMed$z0, fitMed$d0.p, fitMed$z0.p)\n",
        "  return(vec)\n",
        "}\n",
        "\n",
        "run_analysis(dat)"
      ],
      "metadata": {
        "colab": {
          "base_uri": "https://localhost:8080/",
          "height": 34
        },
        "id": "xk8HXLvEggsH",
        "outputId": "77d01da0-3c91-43ec-9e41-818ae64d9455"
      },
      "execution_count": 13,
      "outputs": [
        {
          "output_type": "display_data",
          "data": {
            "text/html": [
              "<style>\n",
              ".list-inline {list-style: none; margin:0; padding: 0}\n",
              ".list-inline>li {display: inline-block}\n",
              ".list-inline>li:not(:last-child)::after {content: \"\\00b7\"; padding: 0 .5ex}\n",
              "</style>\n",
              "<ol class=list-inline><li>1.54336495756205</li><li>0.763521866208999</li><li>0</li><li>0</li></ol>\n"
            ],
            "text/markdown": "1. 1.54336495756205\n2. 0.763521866208999\n3. 0\n4. 0\n\n\n",
            "text/latex": "\\begin{enumerate*}\n\\item 1.54336495756205\n\\item 0.763521866208999\n\\item 0\n\\item 0\n\\end{enumerate*}\n",
            "text/plain": [
              "[1] 1.5433650 0.7635219 0.0000000 0.0000000"
            ]
          },
          "metadata": {}
        }
      ]
    },
    {
      "cell_type": "markdown",
      "metadata": {
        "id": "bHxz5W2r5s79"
      },
      "source": [
        "---\n",
        "## 3. `repeat_analysis()` function (3 pts)"
      ]
    },
    {
      "cell_type": "markdown",
      "metadata": {
        "id": "G_jvc1XQBCpH"
      },
      "source": [
        "Next fill in the function `repeat_analysis()` below so that it simulates and analyzes data `num_simulations` times. Store the outputs from each simulation in the `simouts` matrix. Calculate and return the coverage across all the simulations run for both ACME and ADE."
      ]
    },
    {
      "cell_type": "code",
      "execution_count": 17,
      "metadata": {
        "id": "NheOpBDsBBo9",
        "vscode": {
          "languageId": "r"
        }
      },
      "outputs": [],
      "source": [
        "repeat_analysis <- function(num_simulations, alpha, sample_size, age_lo, age_hi,\n",
        "        beta_xa, beta_x0, sd_x, beta_ca, beta_cx, beta_c0, sd_c) {\n",
        "    # Initialize simouts matrix for storing each output from run_analysis()\n",
        "    simouts <- matrix(rep(NA, num_simulations*4), nrow=num_simulations, ncol=4)\n",
        "\n",
        "    # Start simulating\n",
        "    for (i in 1:num_simulations) {\n",
        "      d <- simulate_data(sample_size, age_lo, age_hi, beta_xa, beta_x0, sd_x, beta_ca, beta_cx, beta_c0, sd_c)\n",
        "      simouts <- run_analysis(d)\n",
        "    }\n",
        "\n",
        "    # Calculate coverage for both ACME and ADE estimates using p-values in simouts\n",
        "    ACME_cov = cvg <- mean(simouts[3] <= alpha)\n",
        "    ADE_cov =  cvg <- mean(simouts[4] <= alpha)\n",
        "\n",
        "    return(list(ACME_cov = ACME_cov, ADE_cov = ADE_cov))\n",
        "}"
      ]
    },
    {
      "cell_type": "markdown",
      "metadata": {
        "id": "bM5J5pYyQoRL"
      },
      "source": [
        "Now run the `repeat_analysis()` function using the same parameter settings as above, for 10 simulations, with an alpha criterion of 0.01."
      ]
    },
    {
      "cell_type": "code",
      "execution_count": 18,
      "metadata": {
        "id": "RpURGbZQQlEK",
        "vscode": {
          "languageId": "r"
        },
        "colab": {
          "base_uri": "https://localhost:8080/",
          "height": 114
        },
        "outputId": "924136b6-b730-4d36-fa02-06d9b4bbc103"
      },
      "outputs": [
        {
          "output_type": "display_data",
          "data": {
            "text/html": [
              "<dl>\n",
              "\t<dt>$ACME_cov</dt>\n",
              "\t\t<dd>1</dd>\n",
              "\t<dt>$ADE_cov</dt>\n",
              "\t\t<dd>1</dd>\n",
              "</dl>\n"
            ],
            "text/markdown": "$ACME_cov\n:   1\n$ADE_cov\n:   1\n\n\n",
            "text/latex": "\\begin{description}\n\\item[\\$ACME\\_cov] 1\n\\item[\\$ADE\\_cov] 1\n\\end{description}\n",
            "text/plain": [
              "$ACME_cov\n",
              "[1] 1\n",
              "\n",
              "$ADE_cov\n",
              "[1] 1\n"
            ]
          },
          "metadata": {}
        }
      ],
      "source": [
        "repeat_analysis(10, 0.01, sample_size, age_lo, age_hi,\n",
        "beta_xa, beta_x0, sd_x, beta_ca, beta_cx, beta_c0, sd_c)"
      ]
    },
    {
      "cell_type": "markdown",
      "metadata": {
        "id": "imIoN4w65s7_"
      },
      "source": [
        "---\n",
        "## 4. Testing different sample sizes (2 pts)"
      ]
    },
    {
      "cell_type": "markdown",
      "metadata": {
        "id": "CzeTaoY7SaXv"
      },
      "source": [
        "Finally, do the same thing (10 simulations, alpha criterion of 0.01) but for 5 different sample sizes: 50, 75, 100, 125, 150. You can do this using `map` (as in the tutorial), or a simple `for` loop, or by calculating each individually. Up to you! This should take around 3 minutes to run."
      ]
    },
    {
      "cell_type": "code",
      "execution_count": 21,
      "metadata": {
        "id": "mp-a19XsS8Md",
        "vscode": {
          "languageId": "r"
        },
        "colab": {
          "base_uri": "https://localhost:8080/"
        },
        "outputId": "2a559d74-e8dc-4129-fc1c-2fff9fa191e7"
      },
      "outputs": [
        {
          "output_type": "stream",
          "name": "stdout",
          "text": [
            "$ACME_cov\n",
            "[1] 1\n",
            "\n",
            "$ADE_cov\n",
            "[1] 1\n",
            "\n",
            "$ACME_cov\n",
            "[1] 1\n",
            "\n",
            "$ADE_cov\n",
            "[1] 1\n",
            "\n",
            "$ACME_cov\n",
            "[1] 1\n",
            "\n",
            "$ADE_cov\n",
            "[1] 1\n",
            "\n",
            "$ACME_cov\n",
            "[1] 1\n",
            "\n",
            "$ADE_cov\n",
            "[1] 1\n",
            "\n",
            "$ACME_cov\n",
            "[1] 1\n",
            "\n",
            "$ADE_cov\n",
            "[1] 1\n",
            "\n"
          ]
        }
      ],
      "source": [
        "for (i in c(50,75,100,125,150)) {\n",
        "  print(repeat_analysis(10, 0.01, i, age_lo, age_hi,\n",
        "beta_xa, beta_x0, sd_x, beta_ca, beta_cx, beta_c0, sd_c)) }"
      ]
    },
    {
      "cell_type": "markdown",
      "metadata": {
        "id": "akJwKCB7dkDw"
      },
      "source": [
        "Print your results."
      ]
    },
    {
      "cell_type": "markdown",
      "source": [
        "> * I ended up with ACME_cov == ADE_cov == 1 for all, which I do not believe was the expected result."
      ],
      "metadata": {
        "id": "E9e1_0SVrU5y"
      }
    },
    {
      "cell_type": "markdown",
      "metadata": {
        "id": "q3Oo6npB5s8B"
      },
      "source": [
        "## 5. Reflection (2 pts)"
      ]
    },
    {
      "cell_type": "markdown",
      "metadata": {
        "id": "tpbGkul2dr-5"
      },
      "source": [
        "If this were a real power analysis, we'd want to run more simulations per sample size (to get a more precise estimate of power) and we may also want to test out some other values of the parameters we used to simulate our data. However, what would you conclude just based on the results above?\n",
        "\n",
        "> * My personal results likely indicate an error in the run_analysis() function, since I notice that my p-values were 0 there and throughout.\n",
        "> * A functional power analysis may reveal minimum sample sizes required for meaningful results (e.g. if p-value decreases after some threshold and stays small) among other info."
      ]
    },
    {
      "cell_type": "markdown",
      "metadata": {
        "id": "RcCo3QOifUi5"
      },
      "source": [
        "**Given** how we generated the data, why was the direct effect harder to detect than the mediated effect?"
      ]
    },
    {
      "cell_type": "markdown",
      "source": [
        "> * I will say because the age was generated uniform randomly between lo and hi, but this feels incorrect."
      ],
      "metadata": {
        "id": "PViGzLXCsLzr"
      }
    },
    {
      "cell_type": "markdown",
      "metadata": {
        "id": "C4MPECMmZXqe"
      },
      "source": [
        "**DUE:** 5pm EST, April 3, 2024"
      ]
    },
    {
      "cell_type": "markdown",
      "metadata": {
        "id": "r9GUofXN4BVy"
      },
      "source": [
        "**IMPORTANT** Did you collaborate with anyone on this assignment? If so, list their names here.\n",
        "> *Someone's Name*"
      ]
    }
  ],
  "metadata": {
    "colab": {
      "provenance": [],
      "include_colab_link": true
    },
    "kernelspec": {
      "display_name": "R",
      "language": "R",
      "name": "ir"
    },
    "language_info": {
      "codemirror_mode": "r",
      "file_extension": ".r",
      "mimetype": "text/x-r-source",
      "name": "R",
      "pygments_lexer": "r",
      "version": "4.2.0"
    }
  },
  "nbformat": 4,
  "nbformat_minor": 0
}