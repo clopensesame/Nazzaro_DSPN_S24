{
  "nbformat": 4,
  "nbformat_minor": 0,
  "metadata": {
    "colab": {
      "provenance": [],
      "authorship_tag": "ABX9TyNG2RjVg6cfsPoN8tNemwxm",
      "include_colab_link": true
    },
    "kernelspec": {
      "name": "ir",
      "display_name": "R"
    },
    "language_info": {
      "name": "R"
    }
  },
  "cells": [
    {
      "cell_type": "markdown",
      "metadata": {
        "id": "view-in-github",
        "colab_type": "text"
      },
      "source": [
        "<a href=\"https://colab.research.google.com/github/clopensesame/Nazzaro_DSPN_S24/blob/main/Nazzaro_DSPN_S23_FinalProject.ipynb\" target=\"_parent\"><img src=\"https://colab.research.google.com/assets/colab-badge.svg\" alt=\"Open In Colab\"/></a>"
      ]
    },
    {
      "cell_type": "markdown",
      "source": [
        "# Cat's Out of the Bag: Feline Friends Help Us Find Love"
      ],
      "metadata": {
        "id": "T9WqDYcZlFTp"
      }
    },
    {
      "cell_type": "markdown",
      "source": [
        "### Background\n",
        "\n",
        "Online dating platforms have revolutionized the way we find love and connection. Whether someone is looking for love or simply looking, most users recognize that dating platforms are, for better or worse, a numbers game. This leads users to consider questions like \"How do I make my profile look more attractive or more dateable? How do I get more likes on my profile?\" Users know that how they present themselves has a direct impact on who, and how many, they engage with. One common way of making a profile seem more friendly, caring, or attractive is to include a photo of the user and a pet.\n",
        "\n",
        "In this study for Research Methods in Social Psychology under Dr. Cox-Boyd, Julia, Johnny, Lily and I surveyed the CMU community and investigated whether having photo with a cat would make a profile seem more attractive. So, do cats make people more attractive?"
      ],
      "metadata": {
        "id": "1oaheM2vDemg"
      }
    },
    {
      "cell_type": "markdown",
      "source": [
        "### Variables\n",
        "We originally had 46 participants. Post-Cleaning and using only participants for whom the manipulation check was successful, we had 25 participants and 12 variables.\n",
        "\n",
        "Our variables included the following:\n",
        "\n",
        "**id**: participant's id number\n",
        "* class: character\n",
        "* observations: 1, 2,...,43\n",
        "  * participants removed (21)\n",
        "    * due to NAs (6): id = 37, 39, 41, 42, 44, 45\n",
        "    * due to failed manipulation (15): id = 3, 5, 10, 13, 15, 16, 20, 21, 22, 23, 28, 30, 31, 36, 46\n",
        "\n",
        "**age**: participant's age within given ranges\n",
        "* class: character\n",
        "* observations:\n",
        "  * 18-24 (24 participants)\n",
        "  * 55-64 (1 participant)\n",
        "\n",
        "**gender**: participant's gender\n",
        "* class: character\n",
        "* observations:\n",
        "  * Male (4 participants)\n",
        "  * Female (18 participants)\n",
        "  * Non-Binary/Third Gender (2 participants)\n",
        "  * Prefer Not to Say (1 participants)\n",
        "\n",
        "**orientation**: participant's sexual orientation\n",
        "* class: character\n",
        "* observations:\n",
        "  * Heterosexual (11 participants)\n",
        "  * Homosexual (4 participants)\n",
        "  * Bisexual (6 participants)\n",
        "  * Asexual (2 participants)\n",
        "  * Prefer to Self-Describe (1 participant)\n",
        "  * Prefer Not to Say (1 participant)\n",
        "\n",
        "**race**: participant's race\n",
        "* class: character\n",
        "* observations:\n",
        "  * Mixed Race (2 participants)\n",
        "  * Asian (20 participants)\n",
        "  * White (3 participants)\n",
        "\n",
        "**catliking**: how much participant likes cats on a scale of 1-10\n",
        "* class: numeric\n",
        "\n",
        "**likes**: how many likes the participant believes the profile will receive in 24 hours relative to the average amount of likes\n",
        "* class: character\n",
        "\n",
        "**attractiveness**: how attractive the participant believes the profile is on a 1-5 scale\n",
        "* class: numeric\n",
        "\n",
        "**group**: profile group the participant was assigned to based on participant's reported gender and sexuality, which determined whether they saw a female or male profile, and random assignment to a profile with a cat or without a cat\n",
        "* class: character\n",
        "* observations:\n",
        "  * f cat (3 participants)\n",
        "  * f no cat (5 participants)\n",
        "  * m cat (6 participants)\n",
        "  * m no cat (11 participants)\n",
        "\n",
        "**profile_gender**: gender of profile participant saw\n",
        "* class: character\n",
        "* observations:\n",
        "  * f (8 participants)\n",
        "  * m (17 participants)\n",
        "\n",
        "**profile_cat**: cat or no cat condition of profile participant saw\n",
        "* class: character\n",
        "* observations:\n",
        "  * cat (9 participants)\n",
        "  * no cat (16 participants)\n",
        "\n",
        "**manipcheck**: true or false whether participant correctly remembered seeing or not seeing a cat based on which profile they were assigned to\n",
        "* class: character\n",
        "* observations:\n",
        "  * true (25 participants)  #used in our analysis\n",
        "  * false (15 participants) #not used in our analysis"
      ],
      "metadata": {
        "id": "ieLS78MLloTI"
      }
    },
    {
      "cell_type": "markdown",
      "source": [
        "### Hypotheses\n",
        "\n",
        "* Linear Regression\n",
        "  * $attractiveness = B_0 + B_gx_g + B_cx_c$ where $B_g$ is the effect of profile gender on attractiveness and $B_c$ is the effect of having a cat in ones profile on attractiveness.\n",
        "  * I would also like to add that the ANOVA result indicated no significant effect of the interaction between profile gender and cat inclusion, so I omitted it from the linear regression. We initially expected an interaction since we believed women are more stereotypically thought to be cat people than men (e.g. no male equivalent for the term \"cat lady\"), and according to prototypicality theory, people generally prefer individuals who have prototypical traits for their group (e.g. conform to gender norms). Furthermore, according to Kogan and Volsche (2020), men were seen as less attractive when they posed with a cat vs no cat.\n",
        "\n",
        "* Bootstrapping\n",
        "  * Next, I will see whether presence of a cat can be predicted by attractiveness and profile gender using a linear model.\n",
        "  * I predict the model to have moderate accuracy, indicated by a 95% confidence interval with a lower bound at least greater than 50% (chance). I predict the permutation test to yield a small probability of observing a stronger negative effect than our real effect due to chance.\n",
        "\n",
        "* LOOCV\n",
        "  * The prediction error will be small, indicating that these results are generalizable to new data. I chose LOOCV rather than k-fold or kNN to predict the accuracy of my revised linear regression model with no interaction term ($attractiveness = B_0 + B_gx_g + B_cx_c$) due to the small sample size."
      ],
      "metadata": {
        "id": "d0-6-f2hlow1"
      }
    },
    {
      "cell_type": "markdown",
      "source": [
        "### Data Organization\n",
        "\n",
        "I pulled relevant variables for this project and made the responses in the dataframe more closely mirror the response options in our [qualtrics survey](https://cmu.ca1.qualtrics.com/jfe/form/SV_6gumWFZB6IM5FH0). Since some values were saved as chr numbers ('1', '2', '', etc.) rather than the response options, pulling values from the original csv file would have led to confusing and hard-to-analyze responses (e.g. catliking = 18 on a scale of 1-10). One response I did change was attractiveness, which was originally on a 5-item scale of Unattractive to Attractive. Because I wanted to do a linear regression analysis, I changed attractiveness to be numeric 1-5.\n",
        "\n",
        "Inserting a photo of the cleaned data table seems to make Google Colab angry so I include head(cat_true) as the second block in the Analysis section below, where cat_true is the subset of cleaned data for whom the manipulation check was successful."
      ],
      "metadata": {
        "id": "0m6RgbZKlvzZ"
      }
    },
    {
      "cell_type": "markdown",
      "source": [
        "### Analysis"
      ],
      "metadata": {
        "id": "R-NiRQIkl1tb"
      }
    },
    {
      "cell_type": "code",
      "execution_count": null,
      "metadata": {
        "id": "yt3jV8Kzs3G0"
      },
      "outputs": [],
      "source": [
        "install.packages(\"tidyverse\")\n",
        "library(dplyr)\n",
        "library(ggplot2)\n",
        "library(tidyverse)\n",
        "library(boot)"
      ]
    },
    {
      "cell_type": "markdown",
      "source": [
        "#### Clean Data"
      ],
      "metadata": {
        "id": "rsyiI_E8RgjJ"
      }
    },
    {
      "cell_type": "code",
      "source": [
        "dat <- read.csv(\"cat_data.csv\")\n",
        "\n",
        "#race function to convert char '' and '1' to str 'race label'\n",
        "race_check <- function(r1,r2,r3,r4,r5,r6,r7,r8) {\n",
        "  r1 <- if_else(r1 == '', 0, as.numeric(r1))\n",
        "  r2 <- if_else(r2 == '', 0, as.numeric(r2))\n",
        "  r3 <- if_else(r3 == '', 0, as.numeric(r3))\n",
        "  r4 <- if_else(r4 == '', 0, as.numeric(r4))\n",
        "  r5 <- if_else(r5 == '', 0, as.numeric(r5))\n",
        "  r6 <- if_else(r6 == '', 0, as.numeric(r6))\n",
        "  r7 <- if_else(r7 == '', 0, as.numeric(r7))\n",
        "  r8 <- if_else(r8 == '', 0, as.numeric(r8))\n",
        "  r = case_when(\n",
        "    r1+r2+r3+r4+r5+r6+r7+r8>1 ~ \"Mixed Race\",\n",
        "    r1 == 1 ~ \"Asian\",\n",
        "    r2 == 1 ~ \"Black/African American\",\n",
        "    r3 == 1 ~ \"Hispanic\",\n",
        "    r4 == 1 ~ \"Native American/Alaskan Native\",\n",
        "    r5 == 1 ~ \"White\",\n",
        "    r6 == 1 ~ \"Native Hawaiian/Pacific Islander\",\n",
        "    r7 == 1 ~ \"Self Describe\",\n",
        "    r8 == 1 ~ \"Prefer Not to Say\"\n",
        "  )\n",
        "  return(r)\n",
        "\n",
        "}\n",
        "\n",
        "age_check <- function(a) {\n",
        "  return(case_when(\n",
        "    a == '1' ~ \"18-24\",\n",
        "    a == '2' ~ \"25-34\",\n",
        "    a == '3' ~ \"35-44\",\n",
        "    a == '4' ~ \"45-54\",\n",
        "    a == '5' ~ \"55-64\",\n",
        "    a == '6' ~ \"65+\",\n",
        "    a == '7' ~ \"Prefer Not to Say\"\n",
        "    ))\n",
        "}\n",
        "\n",
        "gender_check <- function(g) {\n",
        "  return(case_when(\n",
        "    g == '1' ~ \"Male\",\n",
        "    g == '2' ~ \"Female\",\n",
        "    g == '3' ~ \"Non-Binary/Third Gender\",\n",
        "    g == '4' ~ \"Prefer Not to Say\",\n",
        "    g == '5' ~ \"Prefer to Self-Describe\"\n",
        "    ))\n",
        "}\n",
        "\n",
        "orientation_check <- function(o) {\n",
        "  return(case_when(\n",
        "    o == '1' ~ \"Heterosexual\",\n",
        "    o == '2' ~ \"Homosexual\",\n",
        "    o == '3' ~ \"Bisexual\",\n",
        "    o == '4' ~ \"Asexual\",\n",
        "    o == '5' ~ \"Prefer to Self-Describe\",\n",
        "    o == '6' ~ \"Prefer Not to Say\"\n",
        "    ))\n",
        "}\n",
        "\n",
        "catliking_check <- function(c) {\n",
        "  return(case_when(\n",
        "    c == '3' ~ 3,\n",
        "    c == '12' ~ 4,\n",
        "    c == '13' ~ 5,\n",
        "    c == '14' ~ 6,\n",
        "    c == '15' ~ 7,\n",
        "    c == '16' ~ 8,\n",
        "    c == '17' ~ 9,\n",
        "    c == '18' ~ 10\n",
        "    ))\n",
        "}\n",
        "\n",
        "likes_check <- function(l) {\n",
        "  return(case_when(\n",
        "    l == '1' ~ \"None\",\n",
        "    l == '2' ~ \"Below Average\",\n",
        "    l == '3' ~ \"Average\",\n",
        "    l == '4' ~ \"Above Average\",\n",
        "    l == '5' ~ \"Prefer Not to Say\"\n",
        "    ))\n",
        "}\n",
        "\n",
        "attractiveness_check <- function(a) {\n",
        "  return(case_when(\n",
        "    a == '1' ~ 1,\n",
        "    a == '2' ~ 2,\n",
        "    a == '3' ~ 3,\n",
        "    a == '4' ~ 4,\n",
        "    a == '5' ~ 5\n",
        "    ))\n",
        "}\n",
        "\n",
        "#take out first two rows which are descriptions not participants\n",
        "cat <- dat[-c(1,2),]\n",
        "\n",
        "#clean data to relevant, meaningful variables\n",
        "#id, age, gender, orientation, race, catliking, likes, attractiveness, group, manipcheck\n",
        "cat <- cat %>%\n",
        "  #select vars\n",
        "  select(ResponseId, age, gender, orientation,\n",
        "         race_1, race_2, race_3, race_4, race_5, race_6, race_7, race_8,\n",
        "         catliking, likes, attractiveness, manipcheck, Group) %>%\n",
        "  #id\n",
        "  rename(id = ResponseId) %>%\n",
        "  #age (chr, range)\n",
        "  mutate(age = age_check(age)) %>%\n",
        "  #gender (chr)\n",
        "  mutate(gender = gender_check(gender)) %>%\n",
        "  #sexual orientation (chr)\n",
        "  mutate(orientation = orientation_check(orientation)) %>%\n",
        "  #race (chr)\n",
        "  mutate(race = race_check(race_1,race_2,race_3,race_4,\n",
        "                           race_5,race_6,race_7,race_8)) %>%\n",
        "  subset(select = -c(race_1, race_2, race_3, race_4, race_5, race_6, race_7, race_8)) %>%\n",
        "  #catliking (num)\n",
        "  mutate(catliking = catliking_check(catliking)) %>%\n",
        "  #likes (chr)\n",
        "  mutate(likes = likes_check(likes)) %>%\n",
        "  #attractiveness (num)\n",
        "  mutate(attractiveness = attractiveness_check(attractiveness)) %>%\n",
        "  #group (chr)\n",
        "  mutate(profile_gender = case_when(Group %in% c('f cat', 'f no cat')~ 'f',\n",
        "                                    Group %in% c('m cat', 'm no cat')~ 'm'),\n",
        "         profile_cat = case_when(Group %in% c('f cat', 'm cat')~ 'cat',\n",
        "                                 Group %in% c('f no cat', 'm no cat')~ 'no cat')) %>%\n",
        "  rename(group = Group) %>%\n",
        "  #manip check (chr)\n",
        "  mutate(manipcheck = if_else(manipcheck == '8' & profile_cat == 'no cat', 'true',\n",
        "          if_else(manipcheck == '6' & profile_cat == 'cat', 'true', 'false'))) %>%\n",
        "            na.omit()\n",
        "\n",
        "cat_true <- subset(cat, manipcheck == 'true')\n",
        "\n",
        "head(cat_true)"
      ],
      "metadata": {
        "id": "qSbPcGc5yb2E"
      },
      "execution_count": null,
      "outputs": []
    },
    {
      "cell_type": "code",
      "source": [
        "#ANOVA\n",
        "# not part of the three analyses\n",
        "# preliminary ANOVA suggests significant effect of profile_gender and profile_cat with no interaction\n",
        "\n",
        "aov_true <- aov(attractiveness ~ profile_gender*profile_cat,dat = cat_true)\n",
        "summary(aov_true)"
      ],
      "metadata": {
        "id": "fOSCMAhhYMmt"
      },
      "execution_count": null,
      "outputs": []
    },
    {
      "cell_type": "markdown",
      "source": [
        "#### Linear Regression"
      ],
      "metadata": {
        "id": "X5_9Y3N3RaLY"
      }
    },
    {
      "cell_type": "code",
      "source": [
        "lm_true <- lm(attractiveness ~ profile_gender+profile_cat, data = cat_true)\n",
        "summary(lm_true)\n",
        "#effect of male = -1.13 oof\n",
        "#effect of no_cat = -1.09\n",
        "\n",
        "#predict attractiveness for each group using model\n",
        "m0 <- data.frame(profile_gender = \"m\", profile_cat = \"no cat\")\n",
        "m1 <- data.frame(profile_gender = \"m\", profile_cat = \"cat\")\n",
        "f0 <- data.frame(profile_gender = \"f\", profile_cat = \"no cat\")\n",
        "f1 <- data.frame(profile_gender = \"f\", profile_cat = \"cat\")\n",
        "\n",
        "# Predict the attractiveness score\n",
        "predicted_attractiveness_m0 <- predict(lm_true, newdata = m0)\n",
        "predicted_attractiveness_m1 <- predict(lm_true, newdata = m1)\n",
        "predicted_attractiveness_f0 <- predict(lm_true, newdata = f0)\n",
        "predicted_attractiveness_f1 <- predict(lm_true, newdata = f1)\n",
        "\n",
        "#plot observed attractiveness for each group with a line indicating predicted attractiveness\n",
        "#m no cat\n",
        "cat_true_m0 <- subset(cat_true, group == \"m no cat\")\n",
        "ggplot(cat_true_m0, aes(x = id, y = attractiveness)) +\n",
        "  geom_point() +\n",
        "  geom_hline(yintercept = predicted_attractiveness_m0, color = \"dark blue\") +\n",
        "  labs(title = \"m no cat\") +\n",
        "  theme_minimal()\n",
        "#m cat\n",
        "cat_true_m1 <- subset(cat_true, group == \"m cat\")\n",
        "ggplot(cat_true_m1, aes(x = id, y = attractiveness)) +\n",
        "  geom_point() +\n",
        "  geom_hline(yintercept = predicted_attractiveness_m1, color = \"dark blue\") +\n",
        "  labs(title = \"m cat\") +\n",
        "  theme_minimal()\n",
        "#f no cat\n",
        "cat_true_f0 <- subset(cat_true, group == \"f no cat\")\n",
        "ggplot(cat_true_f0, aes(x = id, y = attractiveness)) +\n",
        "  geom_point() +\n",
        "  geom_hline(yintercept = predicted_attractiveness_f0, color = \"dark blue\") +\n",
        "  labs(title = \"f no cat\") +\n",
        "  theme_minimal()\n",
        "#f cat\n",
        "cat_true_f1 <- subset(cat_true, group == \"f cat\")\n",
        "ggplot(cat_true_f1, aes(x = id, y = attractiveness)) +\n",
        "  geom_point() +\n",
        "  geom_hline(yintercept = predicted_attractiveness_f1, color = \"dark blue\") +\n",
        "  labs(title = \"f cat\") +\n",
        "  theme_minimal()"
      ],
      "metadata": {
        "id": "tGp4MJhELo7v",
        "colab": {
          "base_uri": "https://localhost:8080/",
          "height": 1000
        },
        "outputId": "dec5ceb5-ee69-46d3-d157-25fdbe2df4f2"
      },
      "execution_count": 49,
      "outputs": [
        {
          "output_type": "display_data",
          "data": {
            "text/plain": [
              "\n",
              "Call:\n",
              "lm(formula = attractiveness ~ profile_gender + profile_cat, data = cat_true)\n",
              "\n",
              "Residuals:\n",
              "     Min       1Q   Median       3Q      Max \n",
              "-2.08429 -0.30907 -0.08429  0.78544  1.91571 \n",
              "\n",
              "Coefficients:\n",
              "                  Estimate Std. Error t value Pr(>|t|)    \n",
              "(Intercept)         5.3091     0.4511  11.769 5.77e-11 ***\n",
              "profile_genderm    -1.1303     0.4405  -2.566   0.0176 *  \n",
              "profile_catno cat  -1.0945     0.4281  -2.557   0.0180 *  \n",
              "---\n",
              "Signif. codes:  0 ‘***’ 0.001 ‘**’ 0.01 ‘*’ 0.05 ‘.’ 0.1 ‘ ’ 1\n",
              "\n",
              "Residual standard error: 1.027 on 22 degrees of freedom\n",
              "Multiple R-squared:  0.3787,\tAdjusted R-squared:  0.3222 \n",
              "F-statistic: 6.704 on 2 and 22 DF,  p-value: 0.005329\n"
            ]
          },
          "metadata": {}
        },
        {
          "output_type": "display_data",
          "data": {
            "text/plain": [
              "plot without title"
            ],
            "image/png": "[encoded data removed]"
          },
          "metadata": {
            "image/png": {
              "width": 420,
              "height": 420
            }
          }
        },
        {
          "output_type": "display_data",
          "data": {
            "text/plain": [
              "plot without title"
            ],
            "image/png": "[encoded data removed]"
          },
          "metadata": {
            "image/png": {
              "width": 420,
              "height": 420
            }
          }
        },
        {
          "output_type": "display_data",
          "data": {
            "text/plain": [
              "plot without title"
            ],
            "image/png": "[encoded data removed]"
          },
          "metadata": {
            "image/png": {
              "width": 420,
              "height": 420
            }
          }
        },
        {
          "output_type": "display_data",
          "data": {
            "text/plain": [
              "plot without title"
            ],
            "image/png": "[encoded data removed]"
          },
          "metadata": {
            "image/png": {
              "width": 420,
              "height": 420
            }
          }
        }
      ]
    },
    {
      "cell_type": "markdown",
      "source": [
        "#### Bootstrapping"
      ],
      "metadata": {
        "id": "thkKerE0RVTB"
      }
    },
    {
      "cell_type": "code",
      "source": [
        "#predict cat or no cat from attractiveness and gender\n",
        "\n",
        "#Gender_dic: no cat = 0, f = 1\n",
        "cat_true <- cat_true %>%\n",
        "  mutate(cat_binary = case_when(profile_cat==\"no cat\"~0, profile_cat==\"cat\"~1))\n",
        "\n",
        "glm.fit <- glm(cat_binary~attractiveness+profile_gender, data=cat_true, family=binomial)\n",
        "summary(glm.fit)\n",
        "#attractiveness is a significant predictor of profile_cat but gender is not\n",
        "#^^good and expected since participants were randomly assigned\n",
        "#to cat or no cat condition"
      ],
      "metadata": {
        "id": "ufYdHsDwMjSr"
      },
      "execution_count": null,
      "outputs": []
    },
    {
      "cell_type": "code",
      "source": [
        "predicted_probs <- predict(glm.fit, cat_true, type = \"response\", threshold = 0.5)\n",
        "\n",
        "predicted_probs_binary <- if_else(predicted_probs>0.5, 1, 0)\n",
        "\n",
        "confusion_df <- data.frame(predicted = predicted_probs_binary,actual = cat_true$cat_binary)\n",
        "table(confusion_df)\n",
        "print(\"---\")\n",
        "print(paste(\"Accuracy:\",mean(confusion_df$predicted == confusion_df$actual)))\n",
        "#68% accuracy from model"
      ],
      "metadata": {
        "id": "Y9dc7QdJNYHD",
        "colab": {
          "base_uri": "https://localhost:8080/",
          "height": 124
        },
        "outputId": "57e12fca-7f08-4883-d737-0ee3583e4424"
      },
      "execution_count": 44,
      "outputs": [
        {
          "output_type": "display_data",
          "data": {
            "text/plain": [
              "         actual\n",
              "predicted  0  1\n",
              "        0 14  6\n",
              "        1  2  3"
            ]
          },
          "metadata": {}
        },
        {
          "output_type": "stream",
          "name": "stdout",
          "text": [
            "[1] \"---\"\n",
            "[1] \"Accuracy: 0.68\"\n"
          ]
        }
      ]
    },
    {
      "cell_type": "code",
      "source": [
        "#nrow(cat_true)\n",
        "set.seed(1)\n",
        "boot.fn <- function(data,index){\n",
        "    d <- data[index,]\n",
        "    #does this include attractiveness + gender?\n",
        "    glm.fit <- glm(cat_binary~attractiveness+profile_gender, data=cat_true, family=binomial)\n",
        "    predicted_probs <- predict(glm.fit, d, type = \"response\", threshold = 0.5)\n",
        "    predicted_probs_binary <- if_else(predicted_probs>0.5, 1, 0)\n",
        "    confusion_df <- data.frame(predicted = predicted_probs_binary,actual = cat_true$cat_binary)\n",
        "    accuracy <- mean(confusion_df$predicted == confusion_df$actual)\n",
        "    return(accuracy)}\n",
        "\n",
        "boot_obj = boot(cat_true,boot.fn,R=25)\n",
        "print(boot_obj)\n",
        "attributes(boot_obj)\n",
        "hist(boot(cat_true,boot.fn,R=25)$t, xlab=\"prediction accuracy\")\n",
        "\n",
        "sd_boot <- sd(boot_obj$t)\n",
        "sd_boot\n",
        "ci_boot <- boot.ci(boot_obj, conf = 0.95, type = \"basic\")\n",
        "ci_boot\n",
        "#95% CI: (0.60,  0.96)\n",
        "#not great, better than chance i guess"
      ],
      "metadata": {
        "colab": {
          "base_uri": "https://localhost:8080/",
          "height": 1000
        },
        "id": "suMimTmDN0A3",
        "outputId": "1d8e9e91-5d48-40f8-9d4d-e84d375e3af1"
      },
      "execution_count": 50,
      "outputs": [
        {
          "output_type": "stream",
          "name": "stdout",
          "text": [
            "\n",
            "ORDINARY NONPARAMETRIC BOOTSTRAP\n",
            "\n",
            "\n",
            "Call:\n",
            "boot(data = cat_true, statistic = boot.fn, R = 25)\n",
            "\n",
            "\n",
            "Bootstrap Statistics :\n",
            "    original  bias    std. error\n",
            "t1*     0.68 -0.1088  0.07790593\n"
          ]
        },
        {
          "output_type": "display_data",
          "data": {
            "text/html": [
              "<dl>\n",
              "\t<dt>$names</dt>\n",
              "\t\t<dd><style>\n",
              ".list-inline {list-style: none; margin:0; padding: 0}\n",
              ".list-inline>li {display: inline-block}\n",
              ".list-inline>li:not(:last-child)::after {content: \"\\00b7\"; padding: 0 .5ex}\n",
              "</style>\n",
              "<ol class=list-inline><li>'t0'</li><li>'t'</li><li>'R'</li><li>'data'</li><li>'seed'</li><li>'statistic'</li><li>'sim'</li><li>'call'</li><li>'stype'</li><li>'strata'</li><li>'weights'</li></ol>\n",
              "</dd>\n",
              "\t<dt>$class</dt>\n",
              "\t\t<dd>'boot'</dd>\n",
              "\t<dt>$boot_type</dt>\n",
              "\t\t<dd>'boot'</dd>\n",
              "</dl>\n"
            ],
            "text/markdown": "$names\n:   1. 't0'\n2. 't'\n3. 'R'\n4. 'data'\n5. 'seed'\n6. 'statistic'\n7. 'sim'\n8. 'call'\n9. 'stype'\n10. 'strata'\n11. 'weights'\n\n\n\n$class\n:   'boot'\n$boot_type\n:   'boot'\n\n\n",
            "text/latex": "\\begin{description}\n\\item[\\$names] \\begin{enumerate*}\n\\item 't0'\n\\item 't'\n\\item 'R'\n\\item 'data'\n\\item 'seed'\n\\item 'statistic'\n\\item 'sim'\n\\item 'call'\n\\item 'stype'\n\\item 'strata'\n\\item 'weights'\n\\end{enumerate*}\n\n\\item[\\$class] 'boot'\n\\item[\\$boot\\_type] 'boot'\n\\end{description}\n",
            "text/plain": [
              "$names\n",
              " [1] \"t0\"        \"t\"         \"R\"         \"data\"      \"seed\"      \"statistic\"\n",
              " [7] \"sim\"       \"call\"      \"stype\"     \"strata\"    \"weights\"  \n",
              "\n",
              "$class\n",
              "[1] \"boot\"\n",
              "\n",
              "$boot_type\n",
              "[1] \"boot\"\n"
            ]
          },
          "metadata": {}
        },
        {
          "output_type": "display_data",
          "data": {
            "text/html": [
              "0.0779059261759549"
            ],
            "text/markdown": "0.0779059261759549",
            "text/latex": "0.0779059261759549",
            "text/plain": [
              "[1] 0.07790593"
            ]
          },
          "metadata": {}
        },
        {
          "output_type": "stream",
          "name": "stderr",
          "text": [
            "Warning message in norm.inter(t, (1 + c(conf, -conf))/2):\n",
            "“extreme order statistics used as endpoints”\n"
          ]
        },
        {
          "output_type": "display_data",
          "data": {
            "text/plain": [
              "BOOTSTRAP CONFIDENCE INTERVAL CALCULATIONS\n",
              "Based on 25 bootstrap replicates\n",
              "\n",
              "CALL : \n",
              "boot.ci(boot.out = boot_obj, conf = 0.95, type = \"basic\")\n",
              "\n",
              "Intervals : \n",
              "Level      Basic         \n",
              "95%   ( 0.60,  0.96 )  \n",
              "Calculations and Intervals on Original Scale\n",
              "Warning : Basic Intervals used Extreme Quantiles\n",
              "Some basic intervals may be unstable"
            ]
          },
          "metadata": {}
        },
        {
          "output_type": "display_data",
          "data": {
            "text/plain": [
              "Plot with title “Histogram of boot(cat_true, boot.fn, R = 25)$t”"
            ],
            "image/png": "[encoded data removed]"
          },
          "metadata": {
            "image/png": {
              "width": 420,
              "height": 420
            }
          }
        }
      ]
    },
    {
      "cell_type": "markdown",
      "source": [
        "##### Permutation Test"
      ],
      "metadata": {
        "id": "8dZW_mYEXQn2"
      }
    },
    {
      "cell_type": "code",
      "source": [
        "#see probability of observed results in null distribution\n",
        "#^^aka if coefficient beta estimates for attractiveness and profile_cat = 0\n",
        "\n",
        "#make copy to preserve non-permuted, true form of data\n",
        "set.seed(1)\n",
        "perm_cat_true= cat_true\n",
        "\n",
        "#set number of iterations\n",
        "R=500\n",
        "\n",
        "#make an output object to store the results\n",
        "perm.coefs=matrix(NA,nrow=R, ncol=2) #filling with nas at first\n",
        "\n",
        "#for loop to scramble observations in R different ways\n",
        "for (i in 1:R){\n",
        "  perm_cat_true$attractiveness=cat_true$attractiveness[sample(25)] # This is a shuffled version of the Auto$horsepower vector\n",
        "  perm.coefs[i,]=coef(lm(attractiveness~profile_cat, data=perm_cat_true)) # then we get coefficients for linear model of shuffled horsepower to auto\n",
        "}\n",
        "\n",
        "#look at the null distributions\n",
        "hist(perm.coefs[,2])"
      ],
      "metadata": {
        "colab": {
          "base_uri": "https://localhost:8080/",
          "height": 437
        },
        "id": "2vYs-KvzPS8t",
        "outputId": "ed7d0502-2b1c-4a1d-b1e4-070159fbe308"
      },
      "execution_count": 68,
      "outputs": [
        {
          "output_type": "display_data",
          "data": {
            "text/plain": [
              "Plot with title “Histogram of perm.coefs[, 2]”"
            ],
            "image/png": "[encoded data removed]"
          },
          "metadata": {
            "image/png": {
              "width": 420,
              "height": 420
            }
          }
        }
      ]
    },
    {
      "cell_type": "code",
      "source": [
        "#re-estimate the real (unpermuted) effect\n",
        "perm.real = coef(lm(attractiveness~profile_cat, data=cat_true))\n",
        "perm.real\n",
        "#Intercept: 4.56    profile_cat=no cat: -1.12\n",
        "#our observed effect is at lower end of range of coefficient estimates in derived null distribution\n",
        "#aka our observed effect is still in the derived null distribution"
      ],
      "metadata": {
        "colab": {
          "base_uri": "https://localhost:8080/",
          "height": 34
        },
        "id": "Z-VxQ0fCQiYa",
        "outputId": "7b5c2be3-cfa7-443d-fe0e-96c6eafbcd5b"
      },
      "execution_count": 69,
      "outputs": [
        {
          "output_type": "display_data",
          "data": {
            "text/html": [
              "<style>\n",
              ".dl-inline {width: auto; margin:0; padding: 0}\n",
              ".dl-inline>dt, .dl-inline>dd {float: none; width: auto; display: inline-block}\n",
              ".dl-inline>dt::after {content: \":\\0020\"; padding-right: .5ex}\n",
              ".dl-inline>dt:not(:first-of-type) {padding-left: .5ex}\n",
              "</style><dl class=dl-inline><dt>(Intercept)</dt><dd>4.55555555555556</dd><dt>profile_catno cat</dt><dd>-1.11805555555556</dd></dl>\n"
            ],
            "text/markdown": "(Intercept)\n:   4.55555555555556profile_catno cat\n:   -1.11805555555556\n\n",
            "text/latex": "\\begin{description*}\n\\item[(Intercept)] 4.55555555555556\n\\item[profile\\textbackslash{}\\_catno cat] -1.11805555555556\n\\end{description*}\n",
            "text/plain": [
              "      (Intercept) profile_catno cat \n",
              "         4.555556         -1.118056 "
            ]
          },
          "metadata": {}
        }
      ]
    },
    {
      "cell_type": "code",
      "source": [
        "#probability of observing a stronger negative effect than our observed effect due to chance\n",
        "perm.p = sum(perm.coefs[,2]<perm.real[2])/R\n",
        "perm.p\n",
        "#probability: 2.4%\n",
        "#cannot reject the null hypothesis that the coefficient beta estimates for attractiveness and profile_cat = 0"
      ],
      "metadata": {
        "colab": {
          "base_uri": "https://localhost:8080/",
          "height": 34
        },
        "id": "8pIEdFKHQsHi",
        "outputId": "17bb0c27-fd6e-42a9-d4be-487e8222a17e"
      },
      "execution_count": 71,
      "outputs": [
        {
          "output_type": "display_data",
          "data": {
            "text/html": [
              "0.024"
            ],
            "text/markdown": "0.024",
            "text/latex": "0.024",
            "text/plain": [
              "[1] 0.024"
            ]
          },
          "metadata": {}
        }
      ]
    },
    {
      "cell_type": "markdown",
      "source": [
        "#### LOOCV"
      ],
      "metadata": {
        "id": "a_fpUlnNb60B"
      }
    },
    {
      "cell_type": "code",
      "source": [
        "#since i don't have many data points, loocv\n",
        "#uses boot library\n",
        "glm.fit <- glm(cat_binary~attractiveness+profile_gender, data=cat_true, family=binomial)\n",
        "coef(glm.fit)\n",
        "\n",
        "#run LOOCV by setting k to the number of observations\n",
        "cv.err  = cv.glm(cat_true, glm.fit, K=nrow(cat_true))\n",
        "cv.err$delta\n",
        "#cross validated MSE = 0.24"
      ],
      "metadata": {
        "colab": {
          "base_uri": "https://localhost:8080/",
          "height": 52
        },
        "id": "uqpP4LNtYkRv",
        "outputId": "75c3a409-2189-45ae-87b6-82c5aa50fac7"
      },
      "execution_count": 72,
      "outputs": [
        {
          "output_type": "display_data",
          "data": {
            "text/html": [
              "<style>\n",
              ".dl-inline {width: auto; margin:0; padding: 0}\n",
              ".dl-inline>dt, .dl-inline>dd {float: none; width: auto; display: inline-block}\n",
              ".dl-inline>dt::after {content: \":\\0020\"; padding-right: .5ex}\n",
              ".dl-inline>dt:not(:first-of-type) {padding-left: .5ex}\n",
              "</style><dl class=dl-inline><dt>(Intercept)</dt><dd>-6.40731869643093</dd><dt>attractiveness</dt><dd>1.24676757084115</dd><dt>profile_genderm</dt><dd>1.14024268427173</dd></dl>\n"
            ],
            "text/markdown": "(Intercept)\n:   -6.40731869643093attractiveness\n:   1.24676757084115profile_genderm\n:   1.14024268427173\n\n",
            "text/latex": "\\begin{description*}\n\\item[(Intercept)] -6.40731869643093\n\\item[attractiveness] 1.24676757084115\n\\item[profile\\textbackslash{}\\_genderm] 1.14024268427173\n\\end{description*}\n",
            "text/plain": [
              "    (Intercept)  attractiveness profile_genderm \n",
              "      -6.407319        1.246768        1.140243 "
            ]
          },
          "metadata": {}
        },
        {
          "output_type": "display_data",
          "data": {
            "text/html": [
              "<style>\n",
              ".list-inline {list-style: none; margin:0; padding: 0}\n",
              ".list-inline>li {display: inline-block}\n",
              ".list-inline>li:not(:last-child)::after {content: \"\\00b7\"; padding: 0 .5ex}\n",
              "</style>\n",
              "<ol class=list-inline><li>0.236663751990361</li><li>0.235486872262909</li></ol>\n"
            ],
            "text/markdown": "1. 0.236663751990361\n2. 0.235486872262909\n\n\n",
            "text/latex": "\\begin{enumerate*}\n\\item 0.236663751990361\n\\item 0.235486872262909\n\\end{enumerate*}\n",
            "text/plain": [
              "[1] 0.2366638 0.2354869"
            ]
          },
          "metadata": {}
        }
      ]
    },
    {
      "cell_type": "markdown",
      "source": [
        "### Conclusions\n",
        "\n",
        "We conclude that profile_gender and profile_cat are significant predictors of attractiveness, with profile being male, and/or containing no cat having a negative impact on attractiveness.\n",
        "\n",
        "Furthermore, we predicted presence of a cat from attractiveness with a linear model with 68% accuracy. Bootstrapping yielded a 95% prediction accuracy confidence interval of (0.60, 0.96), which is above chance but still not great. Permutation testing showed us that there was a small but non-zero chance (2.4%) that our results could be observed even with no effect of cat on attractiveness.\n",
        "\n",
        "The cross-validated mean squared error was 0.24, which is somewhat large considering that the scale is 0 to 5.\n",
        "\n",
        "Overall, we conclude that the woman in the female profile was more attractive than the man in the male profile, and presence of a cat increased attractiveness in both the male and female profiles. We recommend those doing field work in this area (aka users of dating apps) to try including a photo with a cat in their dating app profile to examine this effect further."
      ],
      "metadata": {
        "id": "bFxau2xHoLLM"
      }
    },
    {
      "cell_type": "markdown",
      "source": [
        "# References\n",
        "\n",
        "Kogan, L., & Volsche, S. (2020). Not the cat’s meow? The impact of posing with cats on female\n",
        "perceptions of male dateability. Animals, 10(6), 1007. https://doi.org/10.3390/ani10061007"
      ],
      "metadata": {
        "id": "kAt74ein8gS-"
      }
    }
  ]
}